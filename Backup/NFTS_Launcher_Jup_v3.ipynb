{
 "cells": [
  {
   "cell_type": "code",
   "execution_count": 1,
   "id": "f3a280ef",
   "metadata": {},
   "outputs": [],
   "source": [
    "##################### Importing all the necessary libraries ##############################\n",
    "import pandas as pd\n",
    "from datetime import datetime\n",
    "import os"
   ]
  },
  {
   "cell_type": "code",
   "execution_count": 2,
   "id": "2d720832",
   "metadata": {},
   "outputs": [],
   "source": [
    "def formatar(valor):\n",
    "    return \"{:.2f}\".format(valor)"
   ]
  },
  {
   "cell_type": "code",
   "execution_count": 3,
   "id": "4827d94a",
   "metadata": {},
   "outputs": [],
   "source": [
    "##################### Coletting all the paths necessary ##############################\n",
    "Path = fr'./data/NFTS_db.xlsx'\n",
    "Wb_Tomadora = pd.read_excel(Path, sheet_name='Dados_Tomadora', dtype=str)\n",
    "Wb_Info = pd.read_excel(Path, sheet_name='Dados_NF', dtype=str)"
   ]
  },
  {
   "cell_type": "code",
   "execution_count": 4,
   "id": "bc59b2b0",
   "metadata": {},
   "outputs": [],
   "source": [
    "##################### Extracting data from Cabeçalho ##############################\n",
    "TR_CB = '1' # 1)\n",
    "Versao = '001' # 2)\n",
    "Inscricao_Mun = str(Wb_Tomadora.iloc[1, 1]) # 3)\n",
    "Data_Inicio = pd.to_datetime(Wb_Tomadora.iloc[1, 2], format='%d/%m/%Y').strftime('%Y%m%d') # 4)\n",
    "Data_Fim = pd.to_datetime(Wb_Tomadora.iloc[1, 3], format='%d/%m/%Y').strftime('%Y%m%d')"
   ]
  },
  {
   "cell_type": "code",
   "execution_count": 5,
   "id": "c60dcf71",
   "metadata": {},
   "outputs": [],
   "source": [
    "##################### Getting Cabecalho in one variable ##############################\n",
    "\n",
    "Cabeca = (\n",
    "    TR_CB +\n",
    "    Versao +\n",
    "    Inscricao_Mun +\n",
    "    Data_Inicio +\n",
    "    Data_Fim\n",
    ")"
   ]
  },
  {
   "cell_type": "code",
   "execution_count": 6,
   "id": "4fee925e",
   "metadata": {},
   "outputs": [],
   "source": [
    "##################### Extracting NF Info's from lines #############################\n",
    "ID_pagamento = Wb_Info['ID_pagamento'].str.replace('.', '')\n",
    "\n",
    "TR_NF = '4' # 1)\n",
    "Tipo_Documento = '02' # 2)\n",
    "Serie_NF = ' ' * 5 # 3)\n",
    "Numero_NF = Wb_Info['Numero_NF'].astype(str).str.zfill(12) # 4)\n",
    "\n",
    "\n",
    "Data_NF = pd.to_datetime(Wb_Info['Data_Prestação']).dt.strftime('%Y-%d-%m').str.replace('-','') # 5)\n",
    "\n",
    "Situacao_NF = 'N' # 6)\n",
    "# N = Normal\n",
    "# C = Cancelado\n",
    "\n",
    "Tributacao = Wb_Info['Tributacao'] # 7)\n",
    "# T - Operação normal\n",
    "# I - Imune\n",
    "# J – ISS Suspenso por Decisão Judicial\n",
    "\n",
    "Valor_Servico = Wb_Info['Valor_Servico'].astype(float).apply(formatar).str.replace('.','').str.zfill(15) # 8)\n",
    "\n",
    "Valor_Deducoes = Wb_Info['Valor_Deducoes'].astype(float).apply(formatar).str.replace('.','').str.zfill(15) # 9)\n",
    "\n",
    "Cod_Serv = Wb_Info['Cod_Serv'].astype(str).str.zfill(5) # 10\n",
    "\n",
    "Cod_Subitem = Wb_Info['Cod_Subitem'].astype(str).str.replace('.','').str.zfill(4)  # 11)\n",
    "\n",
    "Aliquota = Wb_Info['Aliquota'].astype(float).apply(formatar).str.replace('.','').str.zfill(4) # 12)\n",
    "\n",
    "ISS = Wb_Info['ISS_Retido'] # 13)\n",
    "# 1 – ISS Retido pelo tomador.\n",
    "# 2 – NFTS sem ISS Retido.\n",
    "# 3 – ISS Retido pelo intermediário.\n",
    "# 4 – ISS Retido pelo tomador (descumprimento do Art. 8º A, §1º, da Lei Complementar 116, de 31 de julho de 2003)\n",
    "# 5 – ISS Retido pelo intermediário (descumprimento do Art. 8º A, §1º, da Lei Complementar 116, de 31 de julho de 2003)\n",
    "\n",
    "\n",
    "Indica_CNPJ= '2' # 14)\n",
    "# 1 para CPF.\n",
    "# 2 para CNPJ.\n",
    "# 3 para Prestador estabelecido no exterior.\n",
    "\n",
    "CNPJ = Wb_Info['CNPJ'].astype(str).str.replace('.','').str.replace('/','').str.replace('-','').str.zfill(14) # 15)\n",
    "\n",
    "CCM_Prestador = ' ' * 8 # 16)\n",
    "\n",
    "Razao_social = Wb_Info['Razao_Social'].str.ljust(75) # 17)\n",
    "\n",
    "Endereco = ' ' * 123 # 18, 19, 20, 21, 22)\n",
    "\n",
    "Cidade_Prestador = Wb_Info['Cidade_Prestador'].str.ljust(50) # 23)\n",
    "\n",
    "UF_Prestador = Wb_Info['UF_Prestador'].str.ljust(2) # 24\n",
    "\n",
    "CEP_Prestador = Wb_Info['CEP_Prestador'].astype(str).str.replace('.','').str.replace('-','').str.zfill(8) # 25)\n",
    "\n",
    "Email = ' ' * 75 # 26\n",
    "\n",
    "Tipo_NFTS = '1' # 27\n",
    "# 1 - Nota Fiscal do Tomador;\n",
    "# 2 - Nota Fiscal do Intermediário.\n",
    "\n",
    "Regime = '0' # 28\n",
    "# 0 – Normal ou Simples Nacional (DAMSP);\n",
    "# 4 – Simples Nacional (DAS);\n",
    "# 5 – Microempreendedor Individual - MEI.\n",
    "\n",
    "Dt_Pgto = ' ' * 8 # 29\n",
    "\n",
    "Descriminacao = Wb_Info['Descriminacao'] # 30"
   ]
  },
  {
   "cell_type": "code",
   "execution_count": 7,
   "id": "fa95dfeb",
   "metadata": {},
   "outputs": [],
   "source": [
    "##################### Getting NF Info's in one variable ##############################\n",
    "\n",
    "Info_nf = (\n",
    "    TR_NF +\n",
    "    Tipo_Documento +\n",
    "    Serie_NF +\n",
    "    Numero_NF +\n",
    "    Data_NF +\n",
    "    Situacao_NF +\n",
    "    Tributacao +\n",
    "    Valor_Servico +\n",
    "    Valor_Deducoes +\n",
    "    Cod_Serv +\n",
    "    Cod_Subitem +\n",
    "    Aliquota +\n",
    "    ISS +\n",
    "    Indica_CNPJ +\n",
    "    CNPJ +\n",
    "    CCM_Prestador +\n",
    "    Razao_social +\n",
    "    Endereco +\n",
    "    Cidade_Prestador +\n",
    "    UF_Prestador +\n",
    "    CEP_Prestador +\n",
    "    Email +\n",
    "    Tipo_NFTS +\n",
    "    Regime +\n",
    "    Dt_Pgto +\n",
    "    Descriminacao\n",
    ")\n"
   ]
  },
  {
   "cell_type": "code",
   "execution_count": 8,
   "id": "d0091957",
   "metadata": {},
   "outputs": [],
   "source": [
    "##################### Extracting rodapé #############################\n",
    "TR_RP = '9' # 1)\n",
    "N_Linhas = str(Wb_Info.shape[0]).zfill(7) # 2) Contador de linhas\n",
    "\n",
    "Soma_VS = Wb_Info['Valor_Servico'].astype(float).apply(formatar).str.replace('.','') # 3)\n",
    "Soma_VS = Soma_VS.astype(int).sum()\n",
    "Soma_VS = Soma_VS.astype(str).zfill(15)\n",
    "\n",
    "Soma_VD = Wb_Info['Valor_Deducoes'].astype(float).apply(formatar).str.replace('.','') # 4)\n",
    "Soma_VD = Soma_VD.astype(int).sum()\n",
    "Soma_VD = Soma_VD.astype(str).zfill(15)"
   ]
  },
  {
   "cell_type": "code",
   "execution_count": 9,
   "id": "9e047a36",
   "metadata": {},
   "outputs": [],
   "source": [
    "##################### Getting Rodapé Infos in one variable ##############################\n",
    "Rodape = (\n",
    "    TR_RP +\n",
    "    N_Linhas +\n",
    "    Soma_VS +\n",
    "    Soma_VD\n",
    ")"
   ]
  },
  {
   "cell_type": "code",
   "execution_count": 10,
   "id": "8d8a089b",
   "metadata": {},
   "outputs": [
    {
     "name": "stdout",
     "output_type": "stream",
     "text": [
      "Arquivo criado Lote_NFTS_2024-04-10_1.txt criado com sucesso!\n"
     ]
    }
   ],
   "source": [
    "####################### Making .Txt file ##############################\n",
    "data_atual = datetime.now()\n",
    "cont = 1\n",
    "nome_base = 'Lote_NFTS_' + data_atual.strftime(\"%Y-%m-%d\")\n",
    "nome_arquivo = f\"{nome_base}_{cont}.txt\"\n",
    "\n",
    "\n",
    "while os.path.exists(nome_arquivo):\n",
    "    cont += 1\n",
    "    nome_arquivo = f\"{nome_base}_{cont}.txt\"\n",
    "\n",
    "try:\n",
    "    with open(nome_arquivo, 'w') as arquivo:\n",
    "        # Escrever cabeçalho\n",
    "        arquivo.write(Cabeca + '\\n')\n",
    "\n",
    "        # Escrever informações das notas fiscais\n",
    "        for linha_info_nf in Info_nf:\n",
    "            arquivo.write(linha_info_nf + '\\n')\n",
    "\n",
    "        # Escrever rodapé\n",
    "        arquivo.write(Rodape + '\\n')\n",
    "\n",
    "        print(f\"Arquivo criado {nome_arquivo} criado com sucesso!\")\n",
    "\n",
    "except Exception as e:    \n",
    "    print(\"Ocorreu um erro ao criar o arquivo:\", e)"
   ]
  },
  {
   "cell_type": "code",
   "execution_count": null,
   "id": "31da4be3",
   "metadata": {},
   "outputs": [],
   "source": []
  }
 ],
 "metadata": {
  "kernelspec": {
   "display_name": "Python 3 (ipykernel)",
   "language": "python",
   "name": "python3"
  },
  "language_info": {
   "codemirror_mode": {
    "name": "ipython",
    "version": 3
   },
   "file_extension": ".py",
   "mimetype": "text/x-python",
   "name": "python",
   "nbconvert_exporter": "python",
   "pygments_lexer": "ipython3",
   "version": "3.11.5"
  }
 },
 "nbformat": 4,
 "nbformat_minor": 5
}
